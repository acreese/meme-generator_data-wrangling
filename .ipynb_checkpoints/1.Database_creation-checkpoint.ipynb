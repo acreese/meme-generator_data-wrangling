{
 "cells": [
  {
   "cell_type": "markdown",
   "metadata": {},
   "source": [
    "# Database creation"
   ]
  },
  {
   "cell_type": "markdown",
   "metadata": {},
   "source": [
    "**Imports & Connection**"
   ]
  },
  {
   "cell_type": "code",
   "execution_count": 91,
   "metadata": {},
   "outputs": [],
   "source": [
    "import pymysql"
   ]
  },
  {
   "cell_type": "markdown",
   "metadata": {},
   "source": [
    "### Establishing MySQL Server Connection"
   ]
  },
  {
   "cell_type": "code",
   "execution_count": 92,
   "metadata": {},
   "outputs": [],
   "source": [
    "# Open the connection to the database \n",
    "conn = pymysql.connect(host=\"localhost\",           \n",
    "                             user=\"root\",             \n",
    "                             passwd=\"\",   \n",
    "                             #db=\"meme_project4\", # name of the db\n",
    "                             autocommit=True,\n",
    "                             cursorclass=pymysql.cursors.DictCursor)"
   ]
  },
  {
   "cell_type": "markdown",
   "metadata": {},
   "source": [
    "### Creating the database"
   ]
  },
  {
   "cell_type": "code",
   "execution_count": 93,
   "metadata": {},
   "outputs": [],
   "source": [
    "db_name = 'test'"
   ]
  },
  {
   "cell_type": "code",
   "execution_count": 94,
   "metadata": {},
   "outputs": [
    {
     "name": "stdout",
     "output_type": "stream",
     "text": [
      "{'Database': 'information_schema'}\n",
      "{'Database': 'meme_project'}\n",
      "{'Database': 'meme_project2'}\n",
      "{'Database': 'meme_project3'}\n",
      "{'Database': 'meme_project4'}\n",
      "{'Database': 'mysql'}\n",
      "{'Database': 'performance_schema'}\n",
      "{'Database': 'sys'}\n",
      "{'Database': 'test'}\n"
     ]
    }
   ],
   "source": [
    "# creating database \n",
    "cur = conn.cursor()\n",
    "\n",
    "cur.execute(f\"CREATE DATABASE {db_name}\") \n",
    "  \n",
    "cur.execute(\"SHOW DATABASES\")\n",
    "databaseList = cur.fetchall()\n",
    "  \n",
    "for database in databaseList:\n",
    "  print(database)\n",
    "    \n",
    "#conn.close()"
   ]
  },
  {
   "cell_type": "markdown",
   "metadata": {},
   "source": [
    "### Connecting the new database"
   ]
  },
  {
   "cell_type": "code",
   "execution_count": 95,
   "metadata": {},
   "outputs": [],
   "source": [
    "# Open the connection to the database \n",
    "conn = pymysql.connect(host=\"localhost\",           \n",
    "                             user=\"root\",             \n",
    "                             passwd=\"\",   \n",
    "                             db=db_name, # name of the db\n",
    "                             autocommit=True,\n",
    "                             cursorclass=pymysql.cursors.DictCursor)"
   ]
  },
  {
   "cell_type": "markdown",
   "metadata": {},
   "source": [
    "### Creating Tables"
   ]
  },
  {
   "cell_type": "code",
   "execution_count": 103,
   "metadata": {},
   "outputs": [],
   "source": [
    "table_query_full = \"\"\"\n",
    "# Dump of table base_memes\n",
    "# ------------------------------------------------------------\n",
    "\n",
    "CREATE TABLE `base_memes` (\n",
    "  `id` int NOT NULL AUTO_INCREMENT,\n",
    "  `base_meme` mediumtext CHARACTER SET utf8mb4 COLLATE utf8mb4_bin NOT NULL,\n",
    "  PRIMARY KEY (`id`)\n",
    ") ENGINE=InnoDB DEFAULT CHARSET=utf8mb4 COLLATE=utf8mb4_bin;\n",
    "\n",
    "\n",
    "\n",
    "# Dump of table captions\n",
    "# ------------------------------------------------------------\n",
    "\n",
    "CREATE TABLE `captions` (\n",
    "  `id` int NOT NULL AUTO_INCREMENT,\n",
    "  `text_position` mediumtext CHARACTER SET utf8mb4 COLLATE utf8mb4_bin NOT NULL,\n",
    "  `text` mediumtext CHARACTER SET utf8mb4 COLLATE utf8mb4_bin NOT NULL,\n",
    "  `meme_id` int NOT NULL,\n",
    "  PRIMARY KEY (`id`)\n",
    ") ENGINE=InnoDB DEFAULT CHARSET=utf8mb4 COLLATE=utf8mb4_bin;\n",
    "\n",
    "# Dump of table language_names\n",
    "# ------------------------------------------------------------\n",
    "\n",
    "CREATE TABLE `language_names` (\n",
    "  `id` int NOT NULL AUTO_INCREMENT,\n",
    "  `name` mediumtext CHARACTER SET utf8mb4 COLLATE utf8mb4_bin NOT NULL,\n",
    "  `language_id` int NOT NULL,\n",
    "  PRIMARY KEY (`id`)\n",
    ") ENGINE=InnoDB DEFAULT CHARSET=utf8mb4 COLLATE=utf8mb4_bin;\n",
    "\n",
    "\n",
    "\n",
    "# Dump of table languages\n",
    "# ------------------------------------------------------------\n",
    "\n",
    "CREATE TABLE `languages` (\n",
    "  `id` int NOT NULL AUTO_INCREMENT,\n",
    "  `std_english_name` mediumtext CHARACTER SET utf8mb4 COLLATE utf8mb4_bin NOT NULL,\n",
    "  PRIMARY KEY (`id`)\n",
    ") ENGINE=InnoDB DEFAULT CHARSET=utf8mb4 COLLATE=utf8mb4_bin;\n",
    "\n",
    "\n",
    "\n",
    "# Dump of table memes\n",
    "# ------------------------------------------------------------\n",
    "\n",
    "CREATE TABLE `memes` (\n",
    "  `id` int NOT NULL AUTO_INCREMENT,\n",
    "  `base_meme_id` int NOT NULL,\n",
    "  `archived_url` mediumtext CHARACTER SET utf8mb4 COLLATE utf8mb4_0900_ai_ci,\n",
    "  PRIMARY KEY (`id`)\n",
    ") ENGINE=InnoDB DEFAULT CHARSET=utf8mb4 COLLATE=utf8mb4_bin;\n",
    "\n",
    "\n",
    "\n",
    "# Dump of table sentiments\n",
    "# ------------------------------------------------------------\n",
    "\n",
    "CREATE TABLE `sentiments` (\n",
    "  `id` int NOT NULL AUTO_INCREMENT,\n",
    "  `type` mediumtext CHARACTER SET utf8mb4 COLLATE utf8mb4_bin NOT NULL,\n",
    "  `score` int NOT NULL,\n",
    "  PRIMARY KEY (`id`)\n",
    ") ENGINE=InnoDB DEFAULT CHARSET=utf8mb4 COLLATE=utf8mb4_bin;\n",
    "\n",
    "\n",
    "\n",
    "# Dump of table words\n",
    "# ------------------------------------------------------------\n",
    "\n",
    "CREATE TABLE `words` (\n",
    "  `id` int NOT NULL AUTO_INCREMENT,\n",
    "  `word` mediumtext CHARACTER SET utf8mb4 COLLATE utf8mb4_bin NOT NULL,\n",
    "  `caption_id` int NOT NULL,\n",
    "  `words_in_language_id` int DEFAULT NULL,\n",
    "  PRIMARY KEY (`id`)\n",
    ") ENGINE=InnoDB DEFAULT CHARSET=utf8mb4 COLLATE=utf8mb4_bin;\n",
    "\n",
    "\n",
    "\n",
    "# Dump of table words_in_language\n",
    "# ------------------------------------------------------------\n",
    "\n",
    "CREATE TABLE `words_in_language` (\n",
    "  `id` int NOT NULL AUTO_INCREMENT,\n",
    "  `word` mediumtext CHARACTER SET utf8mb4 COLLATE utf8mb4_bin NOT NULL,\n",
    "  `language_id` int DEFAULT NULL,\n",
    "  `sentiment_id` int NOT NULL,\n",
    "  PRIMARY KEY (`id`)\n",
    ") ENGINE=InnoDB DEFAULT CHARSET=utf8mb4 COLLATE=utf8mb4_bin;\n",
    "\"\"\""
   ]
  },
  {
   "cell_type": "code",
   "execution_count": 104,
   "metadata": {},
   "outputs": [],
   "source": [
    "table_queries = table_query_full.split(';')"
   ]
  },
  {
   "cell_type": "code",
   "execution_count": 98,
   "metadata": {},
   "outputs": [],
   "source": [
    "with conn.cursor() as cur:\n",
    "    \n",
    "    for query in table_queries[:-1]:\n",
    "        # To execute the SQL query\n",
    "        cur.execute(query)   \n",
    "\n",
    "        # To commit the changes\n",
    "        conn.commit()         "
   ]
  },
  {
   "cell_type": "markdown",
   "metadata": {},
   "source": [
    "### Close Server Connection"
   ]
  },
  {
   "cell_type": "code",
   "execution_count": null,
   "metadata": {},
   "outputs": [],
   "source": [
    "conn.close()"
   ]
  }
 ],
 "metadata": {
  "kernelspec": {
   "display_name": "Python 3 (ipykernel)",
   "language": "python",
   "name": "python3"
  },
  "language_info": {
   "codemirror_mode": {
    "name": "ipython",
    "version": 3
   },
   "file_extension": ".py",
   "mimetype": "text/x-python",
   "name": "python",
   "nbconvert_exporter": "python",
   "pygments_lexer": "ipython3",
   "version": "3.10.6"
  }
 },
 "nbformat": 4,
 "nbformat_minor": 4
}
